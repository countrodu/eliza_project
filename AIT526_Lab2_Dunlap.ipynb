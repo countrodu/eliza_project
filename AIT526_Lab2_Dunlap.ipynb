{
 "cells": [
  {
   "cell_type": "markdown",
   "id": "4d149cf0-1cf6-4356-b69b-bf629a3ee407",
   "metadata": {},
   "source": [
    "# Individual Lab2 - Text Summarization for Webpage\n",
    "**Course:** AIT526 Fall 2021<br>\n",
    "**Professor:** Dr. Liao<br>\n",
    "**Student:** Robb Dunlap<br>\n",
    "**Date:** September 25, 2021"
   ]
  },
  {
   "cell_type": "markdown",
   "id": "063e398e-cd10-45bb-8c2f-53f9ee09db7a",
   "metadata": {},
   "source": [
    "## Task 1 (5 points) Text Summarization with Word Frequencies"
   ]
  },
  {
   "cell_type": "markdown",
   "id": "996161cc-4572-4b18-a5cb-a113ccb35326",
   "metadata": {},
   "source": [
    "### 1.1 (0 points) \n",
    "Use the web scraping technique with BeautifulSoup as shown in class to get the text data from the specified data location on the Wikipedia webpage. Hints: Please see code snippets for web scraping in the lecture slides."
   ]
  },
  {
   "cell_type": "markdown",
   "id": "618e286d-e682-4099-8a78-15499ead2066",
   "metadata": {},
   "source": [
    "Text data location: https://en.wikipedia.org/wiki/Natural_language_processing"
   ]
  },
  {
   "cell_type": "code",
   "execution_count": 348,
   "id": "4a26b07a-82bc-444b-9ead-c236f73a5b4d",
   "metadata": {},
   "outputs": [],
   "source": [
    "# Dependencies\n",
    "import requests\n",
    "from bs4 import BeautifulSoup, SoupStrainer\n",
    "import nltk\n",
    "from nltk.tokenize import word_tokenize, sent_tokenize\n",
    "from nltk.corpus import stopwords\n",
    "from nltk.stem import WordNetLemmatizer, PorterStemmer\n",
    "from string import punctuation\n",
    "import matplotlib.pyplot as plt\n",
    "import re"
   ]
  },
  {
   "cell_type": "code",
   "execution_count": 260,
   "id": "eb449025-3bc8-4855-b428-8d803c4ecfa5",
   "metadata": {},
   "outputs": [],
   "source": [
    "# packages that need to be loaded into the virtual environment only once (if they haven't been run before)\n",
    "# nltk.download('punkt') # this is necessary if it's the first time using word_tokenizer in your environment\n",
    "# nltk.download('stopwords')\n",
    "#nltk.download('wordnet')"
   ]
  },
  {
   "cell_type": "code",
   "execution_count": 214,
   "id": "e0e2f780-8bc8-40d2-93fd-0e2597b2022a",
   "metadata": {},
   "outputs": [],
   "source": [
    "# code snippet from https://towardsdatascience.com/using-beautifulsoup-on-wikipedia-dd0c620d5861\n",
    "\n",
    "url = 'https://en.wikipedia.org/wiki/Natural_language_processing'\n",
    "page = requests.get(url)\n",
    "\n",
    "# I chose to use 'html.parser' instead of 'lxml' because the html in the article is well\n",
    "# formed and I didn't want to install the lxml library for this project\n",
    "\n",
    "soup = BeautifulSoup(page.content, 'html.parser')\n",
    "\n",
    "# Save the requests object for testing so I don't have to keep scraping it from Wikipedia\n",
    "# Modified code snippet from https://www.studytonight.com/post/how-to-scrape-content-from-a-website-using-beautifulsoup-python\n",
    "\n",
    "with open('canned_soup', 'w', encoding='utf-8') as file:\n",
    "    for line in soup_direct:\n",
    "        file.write(str(line))"
   ]
  },
  {
   "cell_type": "code",
   "execution_count": 16,
   "id": "c2c6e09b-811e-41d9-8ecd-72dc6e0836d8",
   "metadata": {},
   "outputs": [],
   "source": [
    "# function for removing gathering only the text from the wikipedia article\n",
    "\n",
    "def wiki_article_processor(canned_soup_file):\n",
    "    \n",
    "    # Selecting just the content between paragraph markers (<p></p>) results in just having text but it unfortunately\n",
    "    # much of the important content is structured as list markers (<li></li>). Selecting both paragraph and list markers\n",
    "    # brings in the missing text but that results in a bunch of additional text that we don't want in the analysis \n",
    "    # (for example, the TOC and the references). To solve this, I deleted these items from the Beautiful Soup object \n",
    "    # (canned_soup_file) before extracting the text from the paragraph and list sections.\n",
    "\n",
    "    # inspiration from https://medium.datadriveninvestor.com/web-scraping-wikipedia-with-beautifulsoup-a5d5fe6454ee, \n",
    "    # https://stackoverflow.com/questions/26507463/using-beautifulsoup-how-do-i-remove-a-single-class-from-an-element-with-multiple, \n",
    "    # https://kaijento.github.io/2017/03/30/beautifulsoup-removing-tags/, and \n",
    "    # https://beautiful-soup-4.readthedocs.io/en/latest/#parsing-only-part-of-a-document\n",
    "\n",
    "\n",
    "    # removes everything that's not part of the bodyContent div tag\n",
    "    only_bodyContent = SoupStrainer(id = 'bodyContent')\n",
    "    canned_soup_file = canned_soup_file.find(only_bodyContent)\n",
    "\n",
    "    removal_lst = [['ol',{'class','references'}],\n",
    "                   ['div',{'class', 'refbegin'}],\n",
    "                   ['div', {'class':'toc'}],\n",
    "                   ['div', {'role':'navigation'}],\n",
    "                   ['div', {'id':'catlinks'}],\n",
    "                   ['div', {'class':'div-col'}],\n",
    "                   ['sup', {'class':'reference'}]\n",
    "                  ]\n",
    "\n",
    "    for removal_target in removal_lst:\n",
    "        for paragraph in canned_soup_file.find_all(removal_target[0],removal_target[1]):\n",
    "            paragraph.decompose()\n",
    "\n",
    "\n",
    "    # create a string of all the content in the article\n",
    "    article_text = ''\n",
    "    for paragraph in canned_soup_file.find_all(['p', 'li']):\n",
    "        article_text += paragraph.text\n",
    "        article_text += \" \"\n",
    "\n",
    "\n",
    "    # Quantification of the amount of characters captured from the scrape and initial processing\n",
    "    # plus demonstration of the beginning and ending portions of the capture\n",
    "    print(f'Total number of characters scraped and gathered from the article: {len(article_text)}')\n",
    "    print('')\n",
    "    print('Start of the text captured from the article')\n",
    "    print(article_text[:300])\n",
    "    print('')\n",
    "    print('End of the text captured from the article')\n",
    "    print(article_text[-300:])\n",
    "    \n",
    "    return article_text"
   ]
  },
  {
   "cell_type": "code",
   "execution_count": null,
   "id": "4c8589d4-c6d5-48ea-b450-dcb49302b3b0",
   "metadata": {
    "jupyter": {
     "source_hidden": true
    },
    "tags": []
   },
   "outputs": [],
   "source": [
    "# this was the first version of the code to remove all the extraneous content. The above cell\n",
    "# has the improved version - don't run this block anymore - delete before submitting\n",
    "\n",
    "# Selecting just the content between paragraph markers (<p></p>) results in just having text but it unfortunately\n",
    "# much of the important content is structured as list markers (<li></li>). Selecting both paragraph and list markers\n",
    "# brings in the missing text but that results in a bunch of additional text that we don't want in the analysis \n",
    "# (for example, the TOC and the references). To solve this, I deleted these items from the Beautiful Soup object \n",
    "# (soup_from_can) before extracting the text from the paragraph and list sections.\n",
    "\n",
    "# inspiration from https://medium.datadriveninvestor.com/web-scraping-wikipedia-with-beautifulsoup-a5d5fe6454ee, \n",
    "# https://stackoverflow.com/questions/26507463/using-beautifulsoup-how-do-i-remove-a-single-class-from-an-element-with-multiple, \n",
    "# https://kaijento.github.io/2017/03/30/beautifulsoup-removing-tags/, and \n",
    "# https://beautiful-soup-4.readthedocs.io/en/latest/#parsing-only-part-of-a-document\n",
    "\n",
    "# # remves everything that's not part of the bodyContent div tag\n",
    "# only_bodyContent = SoupStrainer(id = 'bodyContent')\n",
    "# soup_from_can = soup_from_can.find(only_bodyContent)\n",
    "# print(len(str(soup_from_can)))\n",
    "\n",
    "# # deletes the \"references\" section\n",
    "# for paragraph in soup_from_can.find_all('ol', {'class':'references'}):\n",
    "#     paragraph.decompose()\n",
    "# print(len(str(soup_from_can)))\n",
    "\n",
    "# # deletes the \"further reading\" section\n",
    "# for paragraph in soup_from_can.find_all('div', {'class': 'refbegin'}):\n",
    "#     paragraph.decompose()\n",
    "# print(len(str(soup_from_can))) \n",
    "    \n",
    "# # deletes the \"table of contents\"    \n",
    "# for paragraph in soup_from_can.find_all('div', {'class':'toc'}):\n",
    "#     paragraph.decompose()\n",
    "# print(len(str(soup_from_can)))\n",
    "    \n",
    "# # deletes the \"navigation bar\" at the bottom\n",
    "# for paragraph in soup_from_can.find_all('div', {'role':'navigation'}):\n",
    "#     paragraph.decompose()\n",
    "# print(len(str(soup_from_can)))\n",
    "    \n",
    "# # deletes the \"links to other categories\" at the bottom of the page    \n",
    "# for paragraph in soup_from_can.find_all('div', {'id':'catlinks'}):\n",
    "#     paragraph.decompose()\n",
    "# print(len(str(soup_from_can)))\n",
    "    \n",
    "# # deletes the \"see also\" links section at the bottom of the article\n",
    "# for paragraph in soup_from_can.find_all('div', {'class':'div-col'}):\n",
    "#     paragraph.decompose()\n",
    "# print(len(str(soup_from_can))) \n",
    "\n",
    "# # deletes the endnote numbers from the text\n",
    "# for paragraph in soup_from_can.find_all('sup', {'class':'reference'}):\n",
    "#     paragraph.decompose()\n",
    "# print(len(str(soup_from_can)))"
   ]
  },
  {
   "cell_type": "code",
   "execution_count": 252,
   "id": "42657432-1f94-4deb-b136-030f77f22432",
   "metadata": {},
   "outputs": [
    {
     "name": "stdout",
     "output_type": "stream",
     "text": [
      "Total number of characters scraped and gathered from the article: 16372\n",
      "\n",
      "Start of the text captured from the article\n",
      "Natural language processing (NLP) is a subfield of linguistics, computer science, and artificial intelligence concerned with the interactions between computers and human language, in particular how to program computers to process and analyze large amounts of natural language data.  The goal is a com\n",
      "\n",
      "End of the text captured from the article\n",
      "d by presence on major conferences of the ACL). More recently, ideas of cognitive NLP have been revived as an approach to achieve explainability, e.g., under the notion of \"cognitive AI\". Likewise, ideas of cognitive NLP are inherent to neural models multimodal NLP (although rarely made explicit).\n",
      " \n"
     ]
    }
   ],
   "source": [
    "# Import the saved file for processing - only run from here down during development, don't keep\n",
    "# rescrapping Wikipedia\n",
    "\n",
    "with open('canned_soup') as file:\n",
    "    soup_from_can = BeautifulSoup(file, 'html.parser')\n",
    "    \n",
    "# run the function to process the web scape into desired text    \n",
    "processed_soup = wiki_article_processor(soup_from_can)"
   ]
  },
  {
   "cell_type": "markdown",
   "id": "e09d5db0-19cb-488d-840b-da6ca2520dde",
   "metadata": {},
   "source": [
    "**Residual to be Removed**<br>\n",
    "Paragraph returns, parentheses, dashes, and quotes remain in the text, otherwise most other artificial symbols and extraneous text have been removed"
   ]
  },
  {
   "cell_type": "markdown",
   "id": "b7758eb9-ce93-49d0-a589-e4de403228d2",
   "metadata": {},
   "source": [
    "### 1.2 (1 point) \n",
    "Preprocess the text data and must include tokenizing words, removing stop words and punctuation, etc."
   ]
  },
  {
   "cell_type": "code",
   "execution_count": 271,
   "id": "d0067dea-61e2-414c-ab4c-e09b3a239005",
   "metadata": {},
   "outputs": [],
   "source": [
    "# Function to tokenize a list of words, remove punctuation, remove stop words, and stem\n",
    "\n",
    "def token_lc_punc_rmstop_lem(input_lst_of_words, print_results):\n",
    "    \n",
    "    # Tokenization of the words\n",
    "    article_words = word_tokenize(input_lst_of_words)\n",
    "    \n",
    "    # Removal of punctuation from words\n",
    "\n",
    "    # this changes all letters to lowercase \n",
    "    article_words_wo_punc = [w.lower() for w in article_words if w not in punctuation]\n",
    "\n",
    "    # this strips punctuation at the start or end of a word\n",
    "    article_words_wo_punc = [w.strip(punctuation) for w in article_words_wo_punc]\n",
    "    \n",
    "    # Removal of stop words\n",
    "    sw = stopwords.words('english')\n",
    "    article_words_wo_punc_sw = [w for w in article_words_wo_punc if w not in sw]\n",
    "    article_words_wo_punc_sw = list(filter(None, article_words_wo_punc_sw))\n",
    "    \n",
    "    # Lemmatize the words\n",
    "    #wnl = WordNetLemmatizer()\n",
    "    #article_words_wo_punc_sw_lemmed = [wnl.lemmatize(w) for w in article_words_wo_punc_sw]\n",
    "    porter = PorterStemmer()\n",
    "    article_words_wo_punc_sw_lemmed = [porter.stem(w) for w in article_words_wo_punc_sw]\n",
    "       \n",
    "    # print out results for user to see how many words were created from the input (if they pass True into the function)\n",
    "    if print_results:\n",
    "        print(f'# of words in the input with punctuation and stopwords removed, and lemmatized:\\\n",
    "        {len(article_words_wo_punc_sw_lemmed)}')\n",
    "        print('')\n",
    "        print('The first 20 words of the input string:')\n",
    "        print(article_words_wo_punc_sw_lemmed[:20])\n",
    "    \n",
    "    return article_words_wo_punc_sw_lemmed"
   ]
  },
  {
   "cell_type": "code",
   "execution_count": 334,
   "id": "54e992e1-c1c2-41a7-8ef0-151975e90c12",
   "metadata": {},
   "outputs": [
    {
     "name": "stdout",
     "output_type": "stream",
     "text": [
      "# of words in the input with punctuation and stopwords removed, and lemmatized:        1500\n",
      "\n",
      "The first 20 words of the input string:\n",
      "['natur', 'languag', 'process', 'nlp', 'subfield', 'linguist', 'comput', 'scienc', 'artifici', 'intellig', 'concern', 'interact', 'comput', 'human', 'languag', 'particular', 'program', 'comput', 'process', 'analyz']\n"
     ]
    }
   ],
   "source": [
    "article_tokens = token_lc_punc_rmstop_lem(processed_soup, True)"
   ]
  },
  {
   "cell_type": "code",
   "execution_count": 337,
   "id": "49391b21-d1d1-49aa-b365-eddfcfec8706",
   "metadata": {},
   "outputs": [
    {
     "name": "stdout",
     "output_type": "stream",
     "text": [
      "total words before removing the \"e.g\" and the right and left quotes:  1500\n",
      "total words after removing the \"e.g\" and the right and left quotes:  1465\n",
      "number of words removed during cleaning:  35\n"
     ]
    }
   ],
   "source": [
    "# the residual of the abbreviation \"e.g.\", and the right and left quotes remain in the list of words\n",
    "# after removing punctuation. This will manually remove them to prevent them messing up the analysis\n",
    "\n",
    "print('total words before removing the \"e.g\" and the right and left quotes: ',len(article_tokens))\n",
    "bad_words = ['e.g','”','“']\n",
    "i=0\n",
    "article_tokens_cleaned = []\n",
    "for word in article_tokens:\n",
    "    if word in bad_words:\n",
    "        i+=1\n",
    "    else:\n",
    "        article_tokens_cleaned.append(word)\n",
    "\n",
    "print('total words after removing the \"e.g\" and the right and left quotes: ',len(article_tokens_cleaned))\n",
    "print('number of words removed during cleaning: ',i)"
   ]
  },
  {
   "cell_type": "markdown",
   "id": "37038f35-891c-4255-8721-0035e8eb9e3a",
   "metadata": {},
   "source": [
    "### 1.3 (1 point) \n",
    "Calculate word frequencies or weighted word frequencies Hint: it would be easy to use FreqDist() to get original word frequencies."
   ]
  },
  {
   "cell_type": "code",
   "execution_count": 344,
   "id": "9675e3f7-d9be-4c0e-a34f-589ce64fd77f",
   "metadata": {},
   "outputs": [
    {
     "name": "stdout",
     "output_type": "stream",
     "text": [
      "[('languag', 35), ('system', 24), ('natur', 23), ('nlp', 22), ('learn', 20), ('process', 19), ('machin', 17), ('task', 16), ('rule', 16), ('statist', 16), ('cognit', 16), ('data', 15), ('use', 15), ('research', 14), ('algorithm', 13)]\n"
     ]
    },
    {
     "data": {
      "image/png": "[encoded data removed]",
      "text/plain": [
       "<Figure size 432x288 with 1 Axes>"
      ]
     },
     "metadata": {
      "needs_background": "light"
     },
     "output_type": "display_data"
    }
   ],
   "source": [
    "# Calculate the word frequencies, list the top 15, and plot for visualization\n",
    "article_words_freq = nltk.FreqDist(article_tokens_cleaned)\n",
    "print(article_words_freq.most_common(15))\n",
    "article_words_freq.plot(15);"
   ]
  },
  {
   "cell_type": "markdown",
   "id": "5f2207a9-053a-4fed-9792-1125c20dae01",
   "metadata": {},
   "source": [
    "### 1.4 (1.5 points) \n",
    "Score the sentences"
   ]
  },
  {
   "cell_type": "code",
   "execution_count": 355,
   "id": "38c990f7-42e4-4167-a78a-8a1ff66f6544",
   "metadata": {},
   "outputs": [
    {
     "name": "stdout",
     "output_type": "stream",
     "text": [
      "# of sentences: 88\n",
      "\n"
     ]
    }
   ],
   "source": [
    "# Tokenize the sentences\n",
    "article_sentences = sent_tokenize(processed_soup)\n",
    "\n",
    "print(f'# of sentences: {len(article_sentences)}')\n",
    "print('')"
   ]
  },
  {
   "cell_type": "code",
   "execution_count": 133,
   "id": "9fdedfa1-af0a-4a81-9d6a-b0dddc20dbad",
   "metadata": {},
   "outputs": [],
   "source": [
    "# Create sublists of the tokenized words in each sentence. This keeps the words of a sentence grouped\n",
    "# together after the punctuation has been removed. List comprehension that uses the same function defined above to\n",
    "# tokenize, remove punctuation, and remove stopwords.\n",
    "\n",
    "# actually, now I'm just doing this to get word count per sentence\n",
    "sentence_words_tokens = [token_lc_punc_rmstop_lem(x, False) for x in article_sentences]\n",
    "\n",
    "# word counting\n"
   ]
  },
  {
   "cell_type": "code",
   "execution_count": 357,
   "id": "4d03f9fd-20c2-4713-b286-2c1fb7bc60f0",
   "metadata": {},
   "outputs": [
    {
     "name": "stdout",
     "output_type": "stream",
     "text": [
      "Natural language processing (NLP) is a subfield of linguistics, computer science, and artificial intelligence concerned with the interactions between computers and human language, in particular how to program computers to process and analyze large amounts of natural language data.\n",
      "281\n",
      "\n",
      "The goal is a computer capable of \"understanding\" the contents of documents, including the contextual nuances of the language within them.\n",
      "138\n",
      "\n",
      "The technology can then accurately extract information and insights contained in the documents as well as categorize and organize the documents themselves.\n",
      "155\n",
      "\n",
      "Challenges in natural language processing frequently involve speech recognition, natural language understanding, and natural language generation.\n",
      "145\n",
      "\n"
     ]
    }
   ],
   "source": [
    "i = 0\n",
    "for sent in article_sentences:\n",
    "    i += 1\n",
    "    if i < 5:\n",
    "        print(sent)\n",
    "        print(len(sent))\n",
    "        print('')\n",
    "        "
   ]
  },
  {
   "cell_type": "code",
   "execution_count": 369,
   "id": "3cb0a8b6-7dec-4f47-a871-8d94cbe10493",
   "metadata": {},
   "outputs": [
    {
     "name": "stdout",
     "output_type": "stream",
     "text": [
      "110\n",
      "yup\n"
     ]
    }
   ],
   "source": [
    "print(len(sent.lower()))\n",
    "if 'likewise' in sent.lower():\n",
    "    print('yup')"
   ]
  },
  {
   "cell_type": "code",
   "execution_count": 352,
   "id": "460744f1-a1a9-4c9c-a243-7cad31e2f7b6",
   "metadata": {},
   "outputs": [
    {
     "ename": "TypeError",
     "evalue": "unhashable type: 'list'",
     "output_type": "error",
     "traceback": [
      "\u001b[0;31m---------------------------------------------------------------------------\u001b[0m",
      "\u001b[0;31mTypeError\u001b[0m                                 Traceback (most recent call last)",
      "\u001b[0;32m/var/folders/87/33lmw8sj3sbc1fnxmv660t480000gn/T/ipykernel_2661/1539921473.py\u001b[0m in \u001b[0;36m<module>\u001b[0;34m\u001b[0m\n\u001b[1;32m      7\u001b[0m     \u001b[0;32mfor\u001b[0m \u001b[0mword_value\u001b[0m \u001b[0;32min\u001b[0m \u001b[0marticle_words_freq\u001b[0m\u001b[0;34m:\u001b[0m\u001b[0;34m\u001b[0m\u001b[0;34m\u001b[0m\u001b[0m\n\u001b[1;32m      8\u001b[0m         \u001b[0;32mif\u001b[0m \u001b[0mword_value\u001b[0m \u001b[0;32min\u001b[0m \u001b[0msent\u001b[0m\u001b[0;34m:\u001b[0m\u001b[0;34m\u001b[0m\u001b[0;34m\u001b[0m\u001b[0m\n\u001b[0;32m----> 9\u001b[0;31m             \u001b[0;32mif\u001b[0m \u001b[0msent_key\u001b[0m \u001b[0;32min\u001b[0m \u001b[0mraw_sent_score_dict\u001b[0m\u001b[0;34m:\u001b[0m\u001b[0;34m\u001b[0m\u001b[0;34m\u001b[0m\u001b[0m\n\u001b[0m\u001b[1;32m     10\u001b[0m                 \u001b[0mraw_sent_score_dict\u001b[0m\u001b[0;34m[\u001b[0m\u001b[0msent_key\u001b[0m\u001b[0;34m]\u001b[0m \u001b[0;34m+=\u001b[0m \u001b[0marticle_words_freq\u001b[0m\u001b[0;34m[\u001b[0m\u001b[0mword_value\u001b[0m\u001b[0;34m]\u001b[0m\u001b[0;34m\u001b[0m\u001b[0;34m\u001b[0m\u001b[0m\n\u001b[1;32m     11\u001b[0m             \u001b[0;32melse\u001b[0m\u001b[0;34m:\u001b[0m\u001b[0;34m\u001b[0m\u001b[0;34m\u001b[0m\u001b[0m\n",
      "\u001b[0;31mTypeError\u001b[0m: unhashable type: 'list'"
     ]
    }
   ],
   "source": [
    "# Modified code from example at https://becominghuman.ai/text-summarization-in-5-steps-using-nltk-65b21e352b65\n",
    "\n",
    "raw_sent_score_dict = dict()\n",
    "for sent in article_sentences:\n",
    "    sent_length = len(sent)\n",
    "    sent_key = sent[:50]\n",
    "    for word_value in article_words_freq:\n",
    "        if word_value in sent: \n",
    "            if sent_key in raw_sent_score_dict:\n",
    "                raw_sent_score_dict[sent_key] += article_words_freq[word_value]\n",
    "            else:\n",
    "                raw_sent_score_dict[sent_key] = article_words_freq[word_value]\n",
    "    raw_sent_score_dict[sent_key] = raw_sent_score_dict[sent_key]/sent_length\n",
    "                \n",
    "dict(reversed(sorted(raw_sent_score_dict.items(), key=lambda item: item[1])))\n",
    "\n",
    "\n"
   ]
  },
  {
   "cell_type": "code",
   "execution_count": 354,
   "id": "41c5c820-6b82-4667-91b3-ec7c2843bc05",
   "metadata": {},
   "outputs": [
    {
     "data": {
      "text/plain": [
       "['natural',\n",
       " 'language',\n",
       " 'processing',\n",
       " 'nlp',\n",
       " 'subfield',\n",
       " 'linguistics',\n",
       " 'computer',\n",
       " 'science',\n",
       " 'artificial',\n",
       " 'intelligence',\n",
       " 'concerned',\n",
       " 'interactions',\n",
       " 'computers',\n",
       " 'human',\n",
       " 'language',\n",
       " 'particular',\n",
       " 'program',\n",
       " 'computers',\n",
       " 'process',\n",
       " 'analyze',\n",
       " 'large',\n",
       " 'amounts',\n",
       " 'natural',\n",
       " 'language',\n",
       " 'data']"
      ]
     },
     "execution_count": 354,
     "metadata": {},
     "output_type": "execute_result"
    }
   ],
   "source": [
    "sent"
   ]
  },
  {
   "cell_type": "code",
   "execution_count": 246,
   "id": "e1c3b3a8-79cd-4372-8805-a1d1df57390d",
   "metadata": {},
   "outputs": [
    {
     "data": {
      "text/plain": [
       "{'speech ': 73.0,\n",
       " 'coarse division given ': 24.333333333333332,\n",
       " 'misspelled words words accidentally omitted ': 14.6,\n",
       " 'natural language processing roots 1950s ': 14.6,\n",
       " 'example consider english word “ big ” ': 10.428571428571429,\n",
       " 'cognitive science interdisciplinary scientific stu': 10.428571428571429,\n",
       " 'containing words structures seen erroneous input e': 10.428571428571429,\n",
       " 'time first many chatterbots written e.g parry ': 10.428571428571429,\n",
       " 'following list commonly researched tasks natural l': 9.125,\n",
       " 'major drawback statistical methods require elabora': 9.125,\n",
       " 'however continue relevant contexts statistical int': 9.125,\n",
       " 'many different classes machine-learning algorithms': 9.125,\n",
       " 'research thus increasingly focused unsupervised se': 9.125,\n",
       " 'lines research continued e.g development chatterbo': 9.125,\n",
       " 'based long-standing trends field possible extrapol': 8.11111111111111,\n",
       " 'algorithms take input large set features generated': 8.11111111111111,\n",
       " '1980s 1980s early 1990s mark hey-day symbolic meth': 8.11111111111111,\n",
       " 'cognitive linguistics interdisciplinary branch lin': 7.3,\n",
       " 'though natural language processing tasks closely i': 7.3,\n",
       " '1980s natural language processing systems based co': 7.3,\n",
       " 'cognition refers mental action process acquiring k': 6.636363636363637,\n",
       " 'since neural turn statistical methods nlp research': 6.636363636363637,\n",
       " 'particular limit complexity systems based handwrit': 6.636363636363637,\n",
       " 'systems based automatically learning rules made ac': 6.636363636363637,\n",
       " 'algorithms learn data hand-annotated desired answe': 6.636363636363637,\n",
       " 'result great deal research gone methods effectivel': 6.636363636363637,\n",
       " 'authors claimed within three five years machine tr': 6.636363636363637,\n",
       " 'technology accurately extract information insights': 6.636363636363637,\n",
       " 'goal computer capable understanding contents docum': 6.636363636363637,\n",
       " 'recently ideas cognitive nlp revived approach achi': 6.083333333333333,\n",
       " 'especially age symbolic nlp area computational lin': 6.083333333333333,\n",
       " 'latest works tend use non-technical structure give': 6.083333333333333,\n",
       " 'cache language models upon many speech recognition': 6.083333333333333,\n",
       " 'important development eventually led statistical t': 6.083333333333333,\n",
       " 'using almost information human thought emotion eli': 6.083333333333333,\n",
       " '1950s georgetown experiment 1954 involved fully au': 6.083333333333333,\n",
       " 'likewise ideas cognitive nlp inherent neural model': 5.615384615384615,\n",
       " 'tasks direct real-world applications others common': 5.615384615384615,\n",
       " 'since 2015 field thus largely abandoned statistica': 5.615384615384615,\n",
       " 'however systems based handwritten rules made accur': 5.615384615384615,\n",
       " '2000s growth web increasing amounts raw unannotate': 5.615384615384615,\n",
       " '1970s 1970s many programmers began write conceptua': 5.615384615384615,\n",
       " 'little research machine translation conducted late': 5.615384615384615,\n",
       " 'used metaphorically ” tomorrow big day ” author ’ ': 5.214285714285714,\n",
       " 'automatic learning procedures make use statistical': 5.214285714285714,\n",
       " 'transformational grammar whose theoretical underpi': 5.214285714285714,\n",
       " 'starting late 1980s however revolution natural lan': 5.214285714285714,\n",
       " 'challenges natural language processing frequently ': 5.214285714285714,\n",
       " 'earliest-used machine learning algorithms decision': 4.866666666666666,\n",
       " 'generally task much difficult supervised learning ': 4.866666666666666,\n",
       " 'however systems depended corpora specifically deve': 4.866666666666666,\n",
       " 'due steady increase computational power see moore ': 4.866666666666666,\n",
       " 'since so-called statistical revolution late 1980s ': 4.5625,\n",
       " '1990s many notable early successes statistical met': 4.294117647058823,\n",
       " 'patient exceeded small knowledge base eliza might ': 4.294117647058823,\n",
       " 'used comparison “ big tree ” author intent imply t': 4.055555555555555,\n",
       " 'generally handling input gracefully handwritten ru': 4.055555555555555,\n",
       " 'intent behind usages like ” big person ” remain so': 3.8421052631578947,\n",
       " 'models advantage express relative certainty many d': 3.8421052631578947,\n",
       " 'increasingly important medicine healthcare nlp use': 3.8421052631578947,\n",
       " 'however real progress much slower alpac report 196': 3.8421052631578947,\n",
       " 'broadly speaking technical operationalization incr': 3.65,\n",
       " 'however creating data input machine-learning syste': 3.65,\n",
       " 'mathematical equation algorithms presented us pate': 3.4761904761904763,\n",
       " 'assign relative measures meaning word phrase sente': 3.4761904761904763,\n",
       " 'areas shift entailed substantial changes nlp syste': 3.4761904761904763,\n",
       " 'early days many language-processing systems design': 3.4761904761904763,\n",
       " 'models generally robust given unfamiliar input esp': 3.3181818181818183,\n",
       " 'examples margie schank 1975 sam cullingford 1978 p': 3.1739130434782608,\n",
       " 'increasingly however research focused statistical ': 3.0416666666666665,\n",
       " 'systems able take advantage existing multilingual ': 3.0416666666666665,\n",
       " 'machine-learning paradigm calls instead using stat': 2.92,\n",
       " 'however enormous amount non-annotated data availab': 2.92,\n",
       " 'natural language processing nlp subfield linguisti': 2.92,\n",
       " 'recent systems based machine-learning algorithms m': 2.8076923076923075,\n",
       " 'however part-of-speech tagging introduced use hidd': 2.607142857142857,\n",
       " '1960s notably successful natural language processi': 2.607142857142857,\n",
       " 'popular techniques include use word embeddings cap': 2.5172413793103448,\n",
       " 'premise symbolic nlp well-summarized john searle c': 2.5172413793103448,\n",
       " 'already 1950 alan turing published article titled ': 2.5172413793103448,\n",
       " 'instance term neural machine translation nmt empha': 2.433333333333333,\n",
       " '2010s representation learning deep neural network-': 2.212121212121212,\n",
       " 'focus areas time included research rule-based pars': 2.085714285714286,\n",
       " 'nevertheless approaches develop cognitive models t': 2.0277777777777777,\n",
       " 'example george lakoff offers methodology build nat': 1.9210526315789473,\n",
       " '2020 three trends among topics long-standing serie': 1.825,\n",
       " 'despite popularity machine learning nlp research s': 1.6590909090909092,\n",
       " 'increasing interest multilinguality potentially mu': 1.042857142857143}"
      ]
     },
     "execution_count": 246,
     "metadata": {},
     "output_type": "execute_result"
    }
   ],
   "source": [
    "# Modified code from example at https://becominghuman.ai/text-summarization-in-5-steps-using-nltk-65b21e352b65\n",
    "\n",
    "raw_sent_score_dict = dict()\n",
    "for sent in sentence_words_tokens:\n",
    "    sent_length = len(sent)\n",
    "    reconstructed_sent = ''\n",
    "    for word in sent:\n",
    "        reconstructed_sent = reconstructed_sent + word + ' '\n",
    "        sent_key = reconstructed_sent[:50]\n",
    "    for word_value in article_words_freq:\n",
    "        if word_value in recon_sent: \n",
    "            if sent_key in raw_sent_score_dict:\n",
    "                raw_sent_score_dict[sent_key] += article_words_freq[word_value]\n",
    "            else:\n",
    "                raw_sent_score_dict[sent_key] = article_words_freq[word_value]\n",
    "    raw_sent_score_dict[sent_key] = raw_sent_score_dict[sent_key]/sent_length\n",
    "                \n",
    "dict(reversed(sorted(raw_sent_score_dict.items(), key=lambda item: item[1])))\n",
    "\n",
    "\n"
   ]
  },
  {
   "cell_type": "code",
   "execution_count": null,
   "id": "74a75c99-78df-4aa5-a371-15ce1ce70412",
   "metadata": {},
   "outputs": [],
   "source": []
  },
  {
   "cell_type": "code",
   "execution_count": null,
   "id": "d14d7785-27a8-4be5-a669-6f61fc4c8b69",
   "metadata": {},
   "outputs": [],
   "source": []
  },
  {
   "cell_type": "markdown",
   "id": "28a5165f-5dcf-4fd9-8492-7f582e44e2fe",
   "metadata": {},
   "source": [
    "### 1.5 (1.5 points) \n",
    "Build a summary based on percentage, sentence count, and word count. Print out all three summarized text examples.<br>\n",
    "Hints: For example, “percentage = 20%” means only 20% words are used for summarization. “sentence count = 3” means only 3 sentences with top frequencies are selected for summarization. “word count = 50” means the total number of words used for summarization is equal to or less than 50."
   ]
  },
  {
   "cell_type": "markdown",
   "id": "ad004c50-3134-4605-8037-8b2a403ba5d1",
   "metadata": {},
   "source": [
    "## Task 2 (4 points) Text Summarization with N-grams\n",
    "Based on Task 1, replace the word frequency method with the N-grams technique to summarize the same text:"
   ]
  },
  {
   "cell_type": "markdown",
   "id": "f3d9c476-ad4b-401d-b92e-102372cd059f",
   "metadata": {},
   "source": [
    "### 2.1 (0 points) \n",
    "Follow the following code examples to generate N-grams with NLTK:"
   ]
  },
  {
   "cell_type": "markdown",
   "id": "4ea4f190-f845-41a8-9d62-c67c54666ec2",
   "metadata": {},
   "source": [
    "![cat](image_1.png)"
   ]
  },
  {
   "cell_type": "markdown",
   "id": "9f3f1359-60b1-4563-8416-674b50a6708a",
   "metadata": {},
   "source": [
    "### 2.2 (4 points) \n",
    "Write the code for text summarization with any N-grams. Note that we will check your program using at least two different n-grams, e.g., n=2, 3, or 4."
   ]
  },
  {
   "cell_type": "markdown",
   "id": "bb741e9b-930d-44b7-af9f-6b7c4af90f96",
   "metadata": {},
   "source": [
    "#### Hint 1 (0.5 points) \n",
    "Use NLTK to get N-grams and FreqDist() to calculate the n-gram frequencies. The running outputs should be similar to:\n",
    "![cat](image_2.png)"
   ]
  },
  {
   "cell_type": "markdown",
   "id": "c761c68d-47ac-46f7-b7bc-66a0b7a5f1a6",
   "metadata": {},
   "source": [
    "#### Hint 2 (1 point) \n",
    "Find weighted frequency occurrences from FreqDist. You can use the similar function from Task 1. The code snippets and running outputs may be similar to:\n",
    "![cat](image_3.png)"
   ]
  },
  {
   "cell_type": "markdown",
   "id": "5deb54ed-bd76-4c2a-a02e-f283be59392f",
   "metadata": {},
   "source": [
    "#### Hint 4 (1.5 point) \n",
    "Define the function like calculate_sentence_scores_ngram(sent_tokens, ngram_freqs, n_grams) to calculate the sentence scores for any N-grams. This function is similar to the one in Task 1."
   ]
  },
  {
   "cell_type": "markdown",
   "id": "88a90a94-3e95-4a1c-b53b-89a06fdb1d65",
   "metadata": {},
   "source": [
    "#### Hing 4 (1 points) \n",
    "Getting the summary is the same as Task 1. The following running output examples show the summarized text using tri-grams and 3 sentences (based on percentage, sentence count, and word count). One of the summarized examples are as follows:\n",
    "![cat](image_4.png)"
   ]
  },
  {
   "cell_type": "markdown",
   "id": "e63325f0-1d26-43ba-a505-cfc1007cbe10",
   "metadata": {},
   "source": [
    "## Task 3 (1 point) Comparisons\n",
    "Compare these two methods for text summarization. What are different and why? Please clearly explain (100-300 words)."
   ]
  },
  {
   "cell_type": "markdown",
   "id": "a772dd1d-7793-42bb-95f1-b8cb4033162f",
   "metadata": {},
   "source": []
  }
 ],
 "metadata": {
  "kernelspec": {
   "display_name": "Python 3 (ipykernel)",
   "language": "python",
   "name": "python3"
  },
  "language_info": {
   "codemirror_mode": {
    "name": "ipython",
    "version": 3
   },
   "file_extension": ".py",
   "mimetype": "text/x-python",
   "name": "python",
   "nbconvert_exporter": "python",
   "pygments_lexer": "ipython3",
   "version": "3.8.11"
  }
 },
 "nbformat": 4,
 "nbformat_minor": 5
}
